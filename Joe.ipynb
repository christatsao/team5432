{
 "cells": [
  {
   "cell_type": "markdown",
   "id": "815be593-f230-4147-b02e-d524552b7ea2",
   "metadata": {
    "tags": []
   },
   "source": [
    "Person object paramenters:\n",
    "\n",
    "Joes:\n",
    "has a state: susceptible, infected, recovered\n",
    "has number of days sick\n",
    "chance of being sick"
   ]
  },
  {
   "cell_type": "code",
   "execution_count": 1,
   "id": "fbd22b5b-49ae-4443-bfed-043cc1c66677",
   "metadata": {},
   "outputs": [],
   "source": [
    "import numpy as np\n",
    "import random"
   ]
  },
  {
   "cell_type": "code",
   "execution_count": 10,
   "id": "f7875ed8-1f62-43b8-a985-b65b1059109e",
   "metadata": {
    "tags": []
   },
   "outputs": [],
   "source": [
    "class Person(object):\n",
    "    def __init__(self):\n",
    "        self.status = \"susceptible\"\n",
    "        self.days_sick = 0\n",
    "        self.sickness_rate = 10\n",
    "        \n",
    "    def infect(self, number_of_days_sick):\n",
    "        self.status = \"infected\"\n",
    "        self.days_sick = number_of_days_sick\n",
    "        \n",
    "    def recover(self):\n",
    "        self.status = \"recovered\"\n",
    "        self.days_sick = 0\n",
    "        \n",
    "    def update(self):\n",
    "        self.days_sick = self.days_sick - 1\n",
    "        if (self.days_sick < 0):\n",
    "            self.recover()"
   ]
  },
  {
   "cell_type": "markdown",
   "id": "72806843-646b-4c72-8127-c13bc1e2b4b4",
   "metadata": {},
   "source": [
    "lets implement our object\n",
    "start with instantiating joe as a person"
   ]
  },
  {
   "cell_type": "code",
   "execution_count": 13,
   "id": "1dbce62e-638f-4d6e-9b88-26fa13b31f7b",
   "metadata": {},
   "outputs": [
    {
     "name": "stdout",
     "output_type": "stream",
     "text": [
      "Joe is susceptible day: 1\n",
      "Joe is susceptible day: 2\n",
      "Joe is susceptible day: 3\n",
      "Joe is susceptible day: 4\n",
      "Joe is susceptible day: 5\n",
      "Joe is susceptible day: 6\n",
      "Joe is susceptible day: 7\n",
      "Joe is susceptible day: 8\n",
      "Joe is infected day: 9\n",
      "Joe is infected day: 10\n",
      "Joe is infected day: 11\n",
      "Joe is infected day: 12\n",
      "Joe is infected day: 13\n",
      "Joe is recovered day: 14\n"
     ]
    }
   ],
   "source": [
    "Joe = Person()\n",
    "day = 0\n",
    "while (Joe.status != \"recovered\"):\n",
    "    day += 1\n",
    "    if (Joe.status != \"infected\"):\n",
    "        chance_of_getting_sick = random.randint(0, 101) #roll the die\n",
    "        if (chance_of_getting_sick < Joe.sickness_rate): #did joe get sick\n",
    "            Joe.infect(4)\n",
    "    elif (Joe.status == \"infected\"):\n",
    "        Joe.update()\n",
    "    \n",
    "    print(\"Joe is\", Joe.status, \"day:\", day)"
   ]
  },
  {
   "cell_type": "code",
   "execution_count": null,
   "id": "cf9f634d-81ac-4b94-95ef-51a630604ce5",
   "metadata": {},
   "outputs": [],
   "source": []
  }
 ],
 "metadata": {
  "IMAGE_NAME": "taccsciapps/ds-nb-img:base-0.1.0",
  "UUID": "b92d019a-e6a8-11ec-a5bb-f640ee1808f0",
  "kernelspec": {
   "display_name": "Python 3 (ipykernel)",
   "language": "python",
   "name": "python3"
  },
  "language_info": {
   "codemirror_mode": {
    "name": "ipython",
    "version": 3
   },
   "file_extension": ".py",
   "mimetype": "text/x-python",
   "name": "python",
   "nbconvert_exporter": "python",
   "pygments_lexer": "ipython3",
   "version": "3.9.10"
  }
 },
 "nbformat": 4,
 "nbformat_minor": 5
}
