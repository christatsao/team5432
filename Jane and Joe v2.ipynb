{
 "cells": [
  {
   "cell_type": "markdown",
   "id": "451d5eef-93f3-470e-90d7-7c9d16142a4a",
   "metadata": {},
   "source": [
    "Person object parameters:\n",
    "\n",
    "Joe:\n",
    "has a state: Susceptible, Infected, Recovered\n",
    "has a number of days sick\n",
    "has a chance of being sick\n"
   ]
  },
  {
   "cell_type": "code",
   "execution_count": 49,
   "id": "a7f922d3-b785-4a74-bce8-487451765675",
   "metadata": {},
   "outputs": [],
   "source": [
    "import random\n",
    "import numpy as np"
   ]
  },
  {
   "cell_type": "code",
   "execution_count": 50,
   "id": "562e104b-0fc8-4db1-993f-83adeb55fa90",
   "metadata": {},
   "outputs": [],
   "source": [
    "class Person(object):\n",
    "    def __init__(self):\n",
    "        self.status = \"Susceptible\"\n",
    "        self.days_sick = 0\n",
    "        self.sickness_rate = 10\n",
    "    \n",
    "    def set_sickness_rate(self, new_sickness_rate):\n",
    "        self.sickness_rate = new_sickness_rate\n",
    "    \n",
    "    def infect(self, number_of_days_sick):\n",
    "        self.status = \"Infected\"\n",
    "        self.days_sick = number_of_days_sick\n",
    "        \n",
    "    def recover(self):\n",
    "        self.status = \"Recovered\"\n",
    "        #self.days_sick = 0\n",
    "    \n",
    "    def update(self):\n",
    "        if(self.status == \"Susceptible\"):\n",
    "            self.roll_for_infection()\n",
    "            \n",
    "        elif(self.status == \"Infected\"):\n",
    "            if(self.days_sick <= 0):\n",
    "                self.recover()\n",
    "            self.days_sick = self.days_sick - 1\n",
    "            \n",
    "    def roll_for_infection(self):\n",
    "        is_sick = (random.randint(0,101) < self.sickness_rate)\n",
    "        if(is_sick == True):\n",
    "            self.infect(4)"
   ]
  },
  {
   "cell_type": "code",
   "execution_count": 51,
   "id": "1efaed0d-a9ca-4228-8a91-6c5c7bab145c",
   "metadata": {},
   "outputs": [
    {
     "name": "stdout",
     "output_type": "stream",
     "text": [
      "Joe is Susceptible day:1\n",
      "0 Joe\n",
      "0 Jane\n",
      "Jane is Susceptible day:1\n",
      "Joe is Susceptible day:2\n",
      "0 Joe\n",
      "0 Jane\n",
      "Jane is Susceptible day:2\n",
      "Joe is Susceptible day:3\n",
      "0 Joe\n",
      "0 Jane\n",
      "Jane is Susceptible day:3\n",
      "Joe is Susceptible day:4\n",
      "0 Joe\n",
      "0 Jane\n",
      "Jane is Susceptible day:4\n",
      "Joe is Susceptible day:5\n",
      "0 Joe\n",
      "0 Jane\n",
      "Jane is Susceptible day:5\n",
      "Joe is Infected day:6\n",
      "4 Joe\n",
      "0 Jane\n",
      "Jane is Susceptible day:6\n",
      "Joe is Infected day:7\n",
      "3 Joe\n",
      "0 Jane\n",
      "Jane is Susceptible day:7\n",
      "Joe is Infected day:8\n",
      "2 Joe\n",
      "4 Jane\n",
      "Jane is Infected day:8\n",
      "Joe is Infected day:9\n",
      "1 Joe\n",
      "3 Jane\n",
      "Jane is Infected day:9\n",
      "Joe is Infected day:10\n",
      "0 Joe\n",
      "2 Jane\n",
      "Jane is Infected day:10\n",
      "Joe is Recovered day:11\n",
      "-1 Joe\n",
      "1 Jane\n",
      "Jane is Infected day:11\n",
      "Joe is Recovered day:12\n",
      "-1 Joe\n",
      "0 Jane\n",
      "Jane is Infected day:12\n",
      "Joe is Recovered day:13\n",
      "-1 Joe\n",
      "-1 Jane\n",
      "Jane is Recovered day:13\n"
     ]
    }
   ],
   "source": [
    "Joe = Person()\n",
    "Jane = Person()\n",
    "Jane.set_sickness_rate(20)\n",
    "day = 0\n",
    "while(Joe.status != \"Recovered\" or Jane.status != \"Recovered\"):\n",
    "    day += 1\n",
    "    Joe.update() #update the status of Joe, and if joe is susceptible,\n",
    "    #roll for infection and if it is a viable roll, infect Joe with the infect method\n",
    "    #\n",
    "    #\n",
    "    if(Joe.status == \"Infected\" or Jane.status == \"Infected\"):\n",
    "        Jane.update() #once joe is infected, then you can begin infecting jane\n",
    "    \n",
    "    print(\"Joe is \" + Joe.status + \" day:\" + str(day))\n",
    "    print(str(Joe.days_sick) + \" Joe\")\n",
    "    print(str(Jane.days_sick) + \" Jane\")\n",
    "    print(\"Jane is \" + Jane.status + \" day:\" + str(day))\n",
    "    \n",
    "    #My conditions didn't happen let's rerun\n",
    "    #if Joe is recovered and Jane is still susceptible, the conditions for our program weren't met\n",
    "    #run it again!\n",
    "    \n",
    "    if(Joe.status == \"Recovered\" and Jane.status == \"Susceptible\"):\n",
    "        Joe.status  = \"Susceptible\"\n",
    "        day = 0\n",
    "        print(\" ---------------reset--------------- \")"
   ]
  },
  {
   "cell_type": "code",
   "execution_count": 89,
   "id": "9a5c4441-4706-45d7-b034-784aeb4cdd4a",
   "metadata": {},
   "outputs": [
    {
     "name": "stdout",
     "output_type": "stream",
     "text": [
      "<class 'numpy.ndarray'>\n",
      "Person 0 interacted with Persons:  []\n"
     ]
    },
    {
     "ename": "IndexError",
     "evalue": "list index out of range",
     "output_type": "error",
     "traceback": [
      "\u001b[0;31m---------------------------------------------------------------------------\u001b[0m",
      "\u001b[0;31mIndexError\u001b[0m                                Traceback (most recent call last)",
      "Input \u001b[0;32mIn [89]\u001b[0m, in \u001b[0;36m<module>\u001b[0;34m\u001b[0m\n\u001b[1;32m      8\u001b[0m interact_population\u001b[38;5;241m.\u001b[39mappend(random\u001b[38;5;241m.\u001b[39msample(\u001b[38;5;28mrange\u001b[39m(\u001b[38;5;241m0\u001b[39m,\u001b[38;5;241m100\u001b[39m),\u001b[38;5;241m10\u001b[39m))\n\u001b[1;32m      9\u001b[0m \u001b[38;5;28;01mfor\u001b[39;00m x \u001b[38;5;129;01min\u001b[39;00m \u001b[38;5;28mrange\u001b[39m(\u001b[38;5;241m0\u001b[39m,\u001b[38;5;241m10\u001b[39m):\n\u001b[0;32m---> 10\u001b[0m     \u001b[38;5;28;01mif\u001b[39;00m(my_population[i] \u001b[38;5;241m==\u001b[39m \u001b[43minteract_population\u001b[49m\u001b[43m[\u001b[49m\u001b[43mi\u001b[49m\u001b[38;5;241;43m-\u001b[39;49m\u001b[38;5;241;43m1\u001b[39;49m\u001b[43m]\u001b[49m\u001b[43m[\u001b[49m\u001b[43mx\u001b[49m\u001b[43m]\u001b[49m):\n\u001b[1;32m     11\u001b[0m         i \u001b[38;5;241m=\u001b[39m i\u001b[38;5;241m-\u001b[39m\u001b[38;5;241m1\u001b[39m\n\u001b[1;32m     12\u001b[0m         \u001b[38;5;28;01mcontinue\u001b[39;00m\n",
      "\u001b[0;31mIndexError\u001b[0m: list index out of range"
     ]
    }
   ],
   "source": [
    "my_population = [] #create an array \n",
    "#np_my_population = np.array(my_population)\n",
    "print(type(np_my_population))\n",
    "interact_population = [[],[]]\n",
    "for i in range(0,100): #loop through 100 times to create 100 people\n",
    "    generic_dude = Person()\n",
    "    my_population.append(i) #add each person to the array\n",
    "    interact_population.append(random.sample(range(0,100),10))\n",
    "    for x in range(0,10):\n",
    "        if(my_population[i] == interact_population[i-1][x]):\n",
    "            i = i-1\n",
    "            continue\n",
    "    population_vector = [my_population[i],interact_population[i]]\n",
    "    print(\"Person\", i, \"interacted with Persons: \", interact_population[i])"
   ]
  },
  {
   "cell_type": "code",
   "execution_count": null,
   "id": "4cf67cbf-e7ff-4bd6-893b-d0cd656e5fbb",
   "metadata": {},
   "outputs": [],
   "source": []
  },
  {
   "cell_type": "code",
   "execution_count": null,
   "id": "6a66262f-2813-48c1-a675-3448ab21cba9",
   "metadata": {},
   "outputs": [],
   "source": []
  }
 ],
 "metadata": {
  "IMAGE_NAME": "taccsciapps/ds-nb-img:base-0.1.0",
  "UUID": "149dcfc6-e6a6-11ec-8b2c-96f31a809607",
  "kernelspec": {
   "display_name": "Python 3 (ipykernel)",
   "language": "python",
   "name": "python3"
  },
  "language_info": {
   "codemirror_mode": {
    "name": "ipython",
    "version": 3
   },
   "file_extension": ".py",
   "mimetype": "text/x-python",
   "name": "python",
   "nbconvert_exporter": "python",
   "pygments_lexer": "ipython3",
   "version": "3.9.10"
  }
 },
 "nbformat": 4,
 "nbformat_minor": 5
}
