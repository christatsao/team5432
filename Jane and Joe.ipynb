{
 "cells": [
  {
   "cell_type": "markdown",
   "id": "451d5eef-93f3-470e-90d7-7c9d16142a4a",
   "metadata": {},
   "source": [
    "Person object parameters:\n",
    "\n",
    "Joe:\n",
    "has a state: Susceptible, Infected, Recovered\n",
    "has a number of days sick\n",
    "has a chance of being sick\n"
   ]
  },
  {
   "cell_type": "code",
   "execution_count": 7,
   "id": "a7f922d3-b785-4a74-bce8-487451765675",
   "metadata": {},
   "outputs": [],
   "source": [
    "import random"
   ]
  },
  {
   "cell_type": "code",
   "execution_count": 26,
   "id": "562e104b-0fc8-4db1-993f-83adeb55fa90",
   "metadata": {},
   "outputs": [],
   "source": [
    "class Person(object):\n",
    "    def __init__(self):\n",
    "        self.status = \"Susceptible\"\n",
    "        self.days_sick = 0\n",
    "        self.sickness_rate_joe = 10\n",
    "        self.sickness_rate_jane = 20\n",
    "    \n",
    "    def infect(self, number_of_days_sick):\n",
    "        self.status = \"Infected\"\n",
    "        self.days_sick = number_of_days_sick\n",
    "        \n",
    "    def recover(self):\n",
    "        self.status = \"Recovered\"\n",
    "        self.days_sick = 0\n",
    "    \n",
    "    def update(self):\n",
    "        self.days_sick = self.days_sick - 1\n",
    "        if(self.days_sick == 0):\n",
    "            self.recover()"
   ]
  },
  {
   "cell_type": "code",
   "execution_count": 28,
   "id": "1efaed0d-a9ca-4228-8a91-6c5c7bab145c",
   "metadata": {},
   "outputs": [
    {
     "name": "stdout",
     "output_type": "stream",
     "text": [
      "Joe is Susceptible day:1\n",
      "Joe is Infected day:2\n",
      "Jane is Susceptible day:  3\n",
      "Joe is Infected day:3\n",
      "Jane is Susceptible day:  4\n",
      "Joe is Infected day:4\n",
      "Jane is Susceptible day:  5\n",
      "Joe is Infected day:5\n",
      "Jane is Susceptible day:  6\n",
      "Joe is Infected day:6\n",
      "Jane is Infected day:  7\n",
      "Joe is Recovered day:7\n",
      "Jane is Infected day:8\n",
      "Jane is Infected day:9\n",
      "Jane is Infected day:10\n",
      "Jane is Recovered day:11\n"
     ]
    }
   ],
   "source": [
    "Joe = Person()\n",
    "Jane = Person()\n",
    "day = 0\n",
    "while(Joe.status != \"Recovered\"):\n",
    "    day += 1\n",
    "    if(Joe.status != \"Infected\"):\n",
    "        chance_of_getting_sick = random.randint(0,101) #roll the die\n",
    "        \n",
    "        if(chance_of_getting_sick < Joe.sickness_rate_joe): #see if Joe gets sick\n",
    "            Joe.infect(5)\n",
    "\n",
    "    elif(Joe.status == \"Infected\"):\n",
    "        if(Jane.status != \"Infected\"):\n",
    "            chance_of_getting_sick = random.randint(0,101) #roll the die\n",
    "            \n",
    "            if(chance_of_getting_sick < Jane.sickness_rate_jane): #see if Jane gets sick\n",
    "                Jane.infect(4)  \n",
    "                \n",
    "        elif(Jane.status == \"infected\"):\n",
    "            Jane.update()\n",
    "            \n",
    "        print(\"Jane is\", Jane.status, \"day: \", day)\n",
    "        \n",
    "        Joe.update()\n",
    "    \n",
    "    print(\"Joe is \" + Joe.status + \" day:\" + str(day))\n",
    "\n",
    "while(Jane.status != \"Recovered\"):\n",
    "    day+= 1\n",
    "    if(Jane.status != \"Infected\"):\n",
    "        chance_of_getting_sick = random.randint(0,101) #roll the die\n",
    "        if(chance_of_getting_sick < Jane.sickness_rate_jane): #see if Jane gets sick\n",
    "            Jane.infect(5) \n",
    "    elif(Jane.status == \"Infected\"):\n",
    "        Jane.update()\n",
    "        \n",
    "    print(\"Jane is \" + Jane.status + \" day:\" + str(day))"
   ]
  },
  {
   "cell_type": "code",
   "execution_count": null,
   "id": "9a5c4441-4706-45d7-b034-784aeb4cdd4a",
   "metadata": {},
   "outputs": [],
   "source": []
  },
  {
   "cell_type": "code",
   "execution_count": null,
   "id": "feac9d99-5ff7-4eff-bfbc-fad9336193a6",
   "metadata": {},
   "outputs": [],
   "source": []
  }
 ],
 "metadata": {
  "IMAGE_NAME": "taccsciapps/ds-nb-img:base-0.1.0",
  "UUID": "149dcfc6-e6a6-11ec-8b2c-96f31a809607",
  "kernelspec": {
   "display_name": "Python 3 (ipykernel)",
   "language": "python",
   "name": "python3"
  },
  "language_info": {
   "codemirror_mode": {
    "name": "ipython",
    "version": 3
   },
   "file_extension": ".py",
   "mimetype": "text/x-python",
   "name": "python",
   "nbconvert_exporter": "python",
   "pygments_lexer": "ipython3",
   "version": "3.9.10"
  }
 },
 "nbformat": 4,
 "nbformat_minor": 5
}
