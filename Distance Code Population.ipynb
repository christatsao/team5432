{
 "cells": [
  {
   "cell_type": "markdown",
   "id": "839c5092-d68e-48a8-94af-022ba960d32c",
   "metadata": {},
   "source": [
    "Person object parameters:\n",
    "\n",
    "Joes:\n",
    "has a state: Suceptable, Infected, Recovered\n",
    "has number of days sick\n",
    "chance of being sick\n",
    "\n"
   ]
  },
  {
   "cell_type": "code",
   "execution_count": 12,
   "id": "5eea30be-ad7f-4da0-a86d-665dc2a9146a",
   "metadata": {},
   "outputs": [],
   "source": [
    "import numpy as np\n",
    "import random\n",
    "\n",
    "my_array = np.array"
   ]
  },
  {
   "cell_type": "code",
   "execution_count": 43,
   "id": "def204db-e0d2-4a44-ab04-21aa02b9aec3",
   "metadata": {},
   "outputs": [],
   "source": [
    "class Person(object):\n",
    "    def __init__(self):\n",
    "        self.status = \"Susceptible\"\n",
    "        self.days_sick = 0\n",
    "        self.sickness_rate = 10\n",
    "        self.Interaction = []\n",
    "        self.radius = 6\n",
    "        self.location = [random.randint(0,1000), random.randint(0,1000)]\n",
    "        \n",
    "        X_LOCATION = self.location[0]\n",
    "        Y_LOCATION = self.location[1]\n",
    "        \n",
    "    \n",
    "    def set_sickness_rate(self, new_rate):\n",
    "        self.sickness_rate = new_rate\n",
    "    \n",
    "    def infect(self, number_of_days_sick):\n",
    "        self.status = \"Infected\"\n",
    "        self.days_sick = number_of_days_sick\n",
    "    \n",
    "    def recover(self):\n",
    "        self.status = \"Recovered\"\n",
    "        self.days_sick = 0\n",
    "    \n",
    "    def update(self):\n",
    "        if (self.status == \"Susceptible\"):\n",
    "            self.roll_for_infection()\n",
    "            \n",
    "        elif (self.status == \"Infected\"):            \n",
    "            self.days_sick = self.days_sick - 1\n",
    "            if (self.days_sick <= 0):\n",
    "                self.recover()\n",
    "    \n",
    "    def update_days_sick(self):\n",
    "        if (self.status == \"Infected\"):            \n",
    "            self.days_sick = self.days_sick - 1\n",
    "            if (self.days_sick <= 0):\n",
    "                self.recover()\n",
    "            \n",
    "            \n",
    "    def roll_for_infection(self):\n",
    "        is_sick = (random.randint(0,101) < self.sickness_rate)\n",
    "        if (is_sick):\n",
    "            self.infect(4)\n",
    "            \n",
    "        "
   ]
  },
  {
   "cell_type": "markdown",
   "id": "f86b3a12-460e-4939-ba98-42ec406cca52",
   "metadata": {},
   "source": [
    "## We need \"something\" to manage and hold our People"
   ]
  },
  {
   "cell_type": "code",
   "execution_count": 44,
   "id": "1754a1c7-4f89-427b-9161-b891b9c10aaa",
   "metadata": {},
   "outputs": [],
   "source": [
    "class Population:\n",
    "    def __init__(self, number=100): #interaction=10):\n",
    "        self.People = []\n",
    "        self.number = number\n",
    "     #   self.interaction = interaction\n",
    "        \n",
    "        if (number < 100):\n",
    "            self.number = 100\n",
    "        \n",
    "      #  if (interaction < 10):\n",
    "      #      self.interaction = 10\n",
    "        \n",
    "        ##build our population\n",
    "        patient_Zero = Person()\n",
    "        patient_Zero.infect(5)\n",
    "        \n",
    "        self.People.append(patient_Zero)\n",
    "        \n",
    "        for i in range(0,number):\n",
    "            p = Person()\n",
    "            self.People.append(p)\n",
    "            \n",
    "    def number_of_sick(self):\n",
    "        sick_Count = 0\n",
    "        for j in self.People:\n",
    "            if (j.status == \"Infected\"):\n",
    "                sick_Count = sick_Count + 1\n",
    "                \n",
    "        return sick_Count\n",
    "    \n",
    "    def number_of_recovered(self):\n",
    "        recovered_Count = 0\n",
    "        for j in self.People:\n",
    "            if (j.status == \"Recovered\"):\n",
    "                recovered_Count = recovered_Count + 1\n",
    "        \n",
    "        return recovered_Count\n",
    "    \n",
    "    def number_of_susceptible(self):\n",
    "        susceptible_Count = 0\n",
    "        for j in self.People:\n",
    "            if (j.status == \"Susceptible\"):\n",
    "                susceptible_Count = susceptible_Count + 1\n",
    "                \n",
    "        return susceptible_Count\n",
    "    \n",
    "    ## Here's the brains of the Population class (and our code)\n",
    "    ## the update will be ran everyday (meaning, every iteration of our while loop)\n",
    "    ## build interaction tables (who interacted with whom)\n",
    "    ## if marked sick they must roll to see if (one per interaction)\n",
    "    ## for example if I interacted with x people within 6 feet, each of them must roll and vice versa if they\n",
    "    ## they were marked as infected\n",
    "    \n",
    "\n",
    "                    \n",
    "    def update(self):\n",
    "        ## people who are might get sick\n",
    "        might_Get_Sick = []\n",
    "        \n",
    "        for person in self.People:\n",
    "            \n",
    "            #clear out your interactions per day\n",
    "            person.Interaction = []\n",
    "            \n",
    "            ##These are people that you interact with\n",
    "\n",
    "            for j in self.People:\n",
    "            #if the distance between 2 people is less than 6, add each person to one another's Interaction table\n",
    "                if ((abs(j.location[0] - person.location[0])< j.radius) or (abs(j.location[1] - person.location[1])< j.radius)) :\n",
    "                    person.Interaction.append(j)\n",
    "                    j.Interaction.append(person)\n",
    "                \n",
    "            ##if \"person\" is Infected, every single person they interacted with might get sick\n",
    "            if (person.status == \"Infected\"):\n",
    "                person.update_days_sick()\n",
    "                \n",
    "                for m in person.Interaction:\n",
    "                    if (m.status == \"Susceptible\"): #only susceptible people can get sick\n",
    "                        might_Get_Sick.append(m)\n",
    "            \n",
    "            ##if \"person\" is susceptible and they interact w/ someone who is \"infected\" \n",
    "            ##person gets added to the \"might get sick\"\n",
    "            if (person.status == \"Susceptible\"):\n",
    "                for m in person.Interaction:\n",
    "                    if (m.status == \"Infected\"):\n",
    "                        might_Get_Sick.append(person)\n",
    "            \n",
    "        ##Now! We're going to roll through our \"Might Get Sick\" and they each roll a die\n",
    "        ##this is only a list of susceptible people\n",
    "        for p in might_Get_Sick:\n",
    "            p.roll_for_infection()\n",
    "        "
   ]
  },
  {
   "cell_type": "markdown",
   "id": "791a50f6-5ef7-40c8-8ec2-8003386e2a5c",
   "metadata": {},
   "source": [
    "## Lets build a population\n",
    "Build a population of 1000 with 1 initally infected people:\n",
    "`myCommunity = Population(1000,10)`"
   ]
  },
  {
   "cell_type": "code",
   "execution_count": 45,
   "id": "202dbdf6-18f6-48cb-9b1e-4b4f01c9d95d",
   "metadata": {},
   "outputs": [
    {
     "name": "stdout",
     "output_type": "stream",
     "text": [
      "day: 0 Number of sick: 1\n",
      "day: 1 Number of sick: 6\n",
      "day: 2 Number of sick: 30\n",
      "day: 3 Number of sick: 117\n",
      "day: 4 Number of sick: 360\n",
      "day: 5 Number of sick: 772\n",
      "day: 6 Number of sick: 964\n",
      "day: 7 Number of sick: 884\n",
      "day: 8 Number of sick: 641\n",
      "day: 9 Number of sick: 223\n",
      "day: 10 Number of sick: 7\n",
      "day: 11 Number of sick: 0\n",
      "Number recovered: 1001\n",
      "Number susceptible: 0\n",
      "[[0, 1, 0], [1, 6, 0], [2, 30, 0], [3, 117, 0], [4, 360, 0], [5, 772, 6], [6, 964, 30], [7, 884, 117], [8, 641, 360], [9, 223, 778], [10, 7, 994], [11, 0, 1001]]\n"
     ]
    }
   ],
   "source": [
    "myCommunity = Population(1000) #,5)\n",
    "day = 0\n",
    "my_plot = []\n",
    "number_sick = myCommunity.number_of_sick()\n",
    "while (number_sick > 0):\n",
    "    number_sick = myCommunity.number_of_sick()\n",
    "    number_recovered = myCommunity.number_of_recovered()\n",
    "    my_plot.append([day, number_sick, number_recovered])\n",
    "    print (\"day:\", day, \"Number of sick:\", number_sick)\n",
    "\n",
    "    day = day+1\n",
    "    myCommunity.update()\n",
    "\n",
    "#print (\"day:\", day, \"Number of sick:\", myCommunity.number_of_sick())\n",
    "print (\"Number recovered:\", myCommunity.number_of_recovered())\n",
    "print (\"Number susceptible:\", myCommunity.number_of_susceptible())\n",
    "\n",
    "print (my_plot)"
   ]
  },
  {
   "cell_type": "code",
   "execution_count": 46,
   "id": "48b285d4-abd9-4044-9621-2dcb8b24e08e",
   "metadata": {},
   "outputs": [],
   "source": [
    "import pandas as pd\n",
    "import matplotlib.pyplot as plt"
   ]
  },
  {
   "cell_type": "code",
   "execution_count": 47,
   "id": "0378df8e-349a-4fcf-b5ac-979ccced8ae4",
   "metadata": {},
   "outputs": [],
   "source": [
    "df = pd.DataFrame(my_plot, columns=['day','number_sick', 'number_recovered'])"
   ]
  },
  {
   "cell_type": "code",
   "execution_count": 48,
   "id": "1d85771a-13a5-47f8-b830-79094319b2e2",
   "metadata": {},
   "outputs": [
    {
     "data": {
      "text/html": [
       "<div>\n",
       "<style scoped>\n",
       "    .dataframe tbody tr th:only-of-type {\n",
       "        vertical-align: middle;\n",
       "    }\n",
       "\n",
       "    .dataframe tbody tr th {\n",
       "        vertical-align: top;\n",
       "    }\n",
       "\n",
       "    .dataframe thead th {\n",
       "        text-align: right;\n",
       "    }\n",
       "</style>\n",
       "<table border=\"1\" class=\"dataframe\">\n",
       "  <thead>\n",
       "    <tr style=\"text-align: right;\">\n",
       "      <th></th>\n",
       "      <th>day</th>\n",
       "      <th>number_sick</th>\n",
       "      <th>number_recovered</th>\n",
       "    </tr>\n",
       "  </thead>\n",
       "  <tbody>\n",
       "    <tr>\n",
       "      <th>0</th>\n",
       "      <td>0</td>\n",
       "      <td>1</td>\n",
       "      <td>0</td>\n",
       "    </tr>\n",
       "    <tr>\n",
       "      <th>1</th>\n",
       "      <td>1</td>\n",
       "      <td>6</td>\n",
       "      <td>0</td>\n",
       "    </tr>\n",
       "    <tr>\n",
       "      <th>2</th>\n",
       "      <td>2</td>\n",
       "      <td>30</td>\n",
       "      <td>0</td>\n",
       "    </tr>\n",
       "    <tr>\n",
       "      <th>3</th>\n",
       "      <td>3</td>\n",
       "      <td>117</td>\n",
       "      <td>0</td>\n",
       "    </tr>\n",
       "    <tr>\n",
       "      <th>4</th>\n",
       "      <td>4</td>\n",
       "      <td>360</td>\n",
       "      <td>0</td>\n",
       "    </tr>\n",
       "    <tr>\n",
       "      <th>5</th>\n",
       "      <td>5</td>\n",
       "      <td>772</td>\n",
       "      <td>6</td>\n",
       "    </tr>\n",
       "    <tr>\n",
       "      <th>6</th>\n",
       "      <td>6</td>\n",
       "      <td>964</td>\n",
       "      <td>30</td>\n",
       "    </tr>\n",
       "    <tr>\n",
       "      <th>7</th>\n",
       "      <td>7</td>\n",
       "      <td>884</td>\n",
       "      <td>117</td>\n",
       "    </tr>\n",
       "    <tr>\n",
       "      <th>8</th>\n",
       "      <td>8</td>\n",
       "      <td>641</td>\n",
       "      <td>360</td>\n",
       "    </tr>\n",
       "    <tr>\n",
       "      <th>9</th>\n",
       "      <td>9</td>\n",
       "      <td>223</td>\n",
       "      <td>778</td>\n",
       "    </tr>\n",
       "    <tr>\n",
       "      <th>10</th>\n",
       "      <td>10</td>\n",
       "      <td>7</td>\n",
       "      <td>994</td>\n",
       "    </tr>\n",
       "    <tr>\n",
       "      <th>11</th>\n",
       "      <td>11</td>\n",
       "      <td>0</td>\n",
       "      <td>1001</td>\n",
       "    </tr>\n",
       "  </tbody>\n",
       "</table>\n",
       "</div>"
      ],
      "text/plain": [
       "    day  number_sick  number_recovered\n",
       "0     0            1                 0\n",
       "1     1            6                 0\n",
       "2     2           30                 0\n",
       "3     3          117                 0\n",
       "4     4          360                 0\n",
       "5     5          772                 6\n",
       "6     6          964                30\n",
       "7     7          884               117\n",
       "8     8          641               360\n",
       "9     9          223               778\n",
       "10   10            7               994\n",
       "11   11            0              1001"
      ]
     },
     "execution_count": 48,
     "metadata": {},
     "output_type": "execute_result"
    }
   ],
   "source": [
    "df"
   ]
  },
  {
   "cell_type": "code",
   "execution_count": 49,
   "id": "67eafb8e-5193-44f9-b6f4-8c612213fc68",
   "metadata": {},
   "outputs": [
    {
     "data": {
      "image/png": "[encoded data removed]",
      "text/plain": [
       "<Figure size 432x288 with 1 Axes>"
      ]
     },
     "metadata": {
      "needs_background": "light"
     },
     "output_type": "display_data"
    }
   ],
   "source": [
    "fig = plt.figure()\n",
    "ax = plt.gca()\n",
    "fig = df.plot(kind='line', x='day', y='number_sick', ax=ax).get_figure()\n",
    "plt.savefig('test.png', bbox_inches='tight')\n",
    "plt.show()"
   ]
  },
  {
   "cell_type": "code",
   "execution_count": 50,
   "id": "0f39ff0a-518b-49b8-b4e8-62a770dc8ef3",
   "metadata": {},
   "outputs": [
    {
     "data": {
      "image/png": "[encoded data removed]",
      "text/plain": [
       "<Figure size 432x288 with 1 Axes>"
      ]
     },
     "metadata": {
      "needs_background": "light"
     },
     "output_type": "display_data"
    }
   ],
   "source": [
    "fig = plt.figure()\n",
    "ax = plt.gca()\n",
    "fig = df.plot(kind='line', x='day', y='number_recovered', ax=ax).get_figure()\n",
    "plt.savefig('test.png', bbox_inches='tight')\n",
    "plt.show()"
   ]
  },
  {
   "cell_type": "code",
   "execution_count": 42,
   "id": "ee2eca21-c03b-4e99-8d65-cb3c848b2ded",
   "metadata": {},
   "outputs": [
    {
     "data": {
      "image/png": "[encoded data removed]",
      "text/plain": [
       "<Figure size 432x288 with 1 Axes>"
      ]
     },
     "metadata": {
      "needs_background": "light"
     },
     "output_type": "display_data"
    }
   ],
   "source": [
    "fig = plt.figure()\n",
    "ax1 = plt.gca()\n",
    "fig1 = df.plot(kind='line', x='day', y='number_recovered', ax=ax1).get_figure()\n",
    "fig2 = df.plot(kind='line', x='day', y='number_sick', ax=ax1).get_figure()\n",
    "plt.savefig('test.png')\n",
    "plt.show()"
   ]
  },
  {
   "cell_type": "code",
   "execution_count": null,
   "id": "bbd9818d-2e03-40e7-b2ed-ce346978c812",
   "metadata": {},
   "outputs": [],
   "source": [
    "df.to_csv(\"mydata.csv\")"
   ]
  },
  {
   "cell_type": "code",
   "execution_count": null,
   "id": "46b53e15-2b93-4510-8feb-76e88d12f512",
   "metadata": {},
   "outputs": [],
   "source": []
  }
 ],
 "metadata": {
  "IMAGE_NAME": "taccsciapps/ds-nb-img:base-0.1.0",
  "UUID": "f5fba3ea-e6a5-11ec-b09d-b6ecb6431114",
  "kernelspec": {
   "display_name": "Python 3 (ipykernel)",
   "language": "python",
   "name": "python3"
  },
  "language_info": {
   "codemirror_mode": {
    "name": "ipython",
    "version": 3
   },
   "file_extension": ".py",
   "mimetype": "text/x-python",
   "name": "python",
   "nbconvert_exporter": "python",
   "pygments_lexer": "ipython3",
   "version": "3.9.10"
  }
 },
 "nbformat": 4,
 "nbformat_minor": 5
}
